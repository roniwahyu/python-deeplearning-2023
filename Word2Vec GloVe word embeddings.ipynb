{
 "cells": [
  {
   "cell_type": "markdown",
   "metadata": {},
   "source": [
    "# Bit about GloVe\n",
    "\n",
    "- GloVe is an unsupervised learning algorithm for obtaining vector representations for words. Training is performed on aggregated global word-word co-occurrence statistics from a corpus, and the resulting representations showcase interesting linear substructures of the word vector space, more at https://nlp.stanford.edu/projects/glove/\n",
    "\n",
    "- This notebook assumes that you have already downloaded one of the GloVe word embeddings file. If not then please do so"
   ]
  },
  {
   "cell_type": "code",
   "execution_count": 2,
   "metadata": {},
   "outputs": [
    {
     "data": {
      "text/plain": [
       "(400000, 100)"
      ]
     },
     "execution_count": 2,
     "metadata": {},
     "output_type": "execute_result"
    }
   ],
   "source": [
    "from gensim.scripts.glove2word2vec import glove2word2vec\n",
    "\n",
    "#load the GloVe word embeddings file which has a 100 dimension representation for each word. Convert that into a word2vec supported format\n",
    "glove2word2vec('glove.6B.100d.txt','word2vec.glove.6B.100d.txt')"
   ]
  },
  {
   "cell_type": "code",
   "execution_count": 3,
   "metadata": {},
   "outputs": [],
   "source": [
    "from gensim.models import KeyedVectors\n",
    "\n",
    "# load the wordvec file\n",
    "model = KeyedVectors.load_word2vec_format('word2vec.glove.6B.100d.txt')"
   ]
  },
  {
   "cell_type": "markdown",
   "metadata": {},
   "source": [
    "## Power of Word2Vec model using GloVe embeddings\n",
    "\n",
    "    - Some really good examples available at https://radimrehurek.com/gensim/models/keyedvectors.html\n",
    "    - You would need to do a pip install pyemd for wmdistance to work"
   ]
  },
  {
   "cell_type": "code",
   "execution_count": 4,
   "metadata": {},
   "outputs": [
    {
     "name": "stdout",
     "output_type": "stream",
     "text": [
      "[('treasuries', 0.5385321378707886), ('investors', 0.49317896366119385), ('equities', 0.48488757014274597), ('volatility', 0.4768450856208801), ('repurchases', 0.4751368761062622), ('capitalization', 0.4698612093925476), ('currencies', 0.4666273295879364), ('bond', 0.4662191867828369), ('oversubscribed', 0.46529191732406616), ('nyse', 0.4631817042827606)]\n"
     ]
    }
   ],
   "source": [
    "# most similar words\n",
    "print (model.most_similar(positive=['stock'], negative=['factory']))"
   ]
  },
  {
   "cell_type": "code",
   "execution_count": 5,
   "metadata": {},
   "outputs": [
    {
     "name": "stdout",
     "output_type": "stream",
     "text": [
      "[('dog', 0.8798074722290039), ('rabbit', 0.7424427270889282), ('cats', 0.7323004007339478), ('monkey', 0.7288710474967957), ('pet', 0.7190139293670654), ('dogs', 0.7163873314857483), ('mouse', 0.6915251016616821), ('puppy', 0.6800068616867065), ('rat', 0.6641027331352234), ('spider', 0.6501134634017944)]\n"
     ]
    }
   ],
   "source": [
    "print (model.most_similar(['cat']))"
   ]
  },
  {
   "cell_type": "code",
   "execution_count": 6,
   "metadata": {},
   "outputs": [
    {
     "name": "stdout",
     "output_type": "stream",
     "text": [
      "[('investment', 0.7512970566749573), ('investments', 0.7315619587898254), ('asset', 0.7261636257171631), ('equities', 0.6976175308227539), ('securities', 0.6831409931182861)]\n"
     ]
    }
   ],
   "source": [
    "print (model.most_similar(['equity'], topn=5))"
   ]
  },
  {
   "cell_type": "markdown",
   "metadata": {},
   "source": [
    "## Visualize embeddings using PCA\n",
    "\n",
    "    - In this particular GloVe word embedding there are some 400k words with 100 dimensional embedding. We will select just 50 words and try to visualize them after doing a dimension reduction via PCA"
   ]
  },
  {
   "cell_type": "code",
   "execution_count": 8,
   "metadata": {},
   "outputs": [
    {
     "name": "stderr",
     "output_type": "stream",
     "text": [
      "C:\\MachineLearning\\anaconda\\lib\\site-packages\\ipykernel_launcher.py:1: DeprecationWarning: Call to deprecated `wv` (Attribute will be removed in 4.0.0, use self instead).\n",
      "  \"\"\"Entry point for launching an IPython kernel.\n"
     ]
    },
    {
     "data": {
      "image/png": "[encoded data removed]",
      "text/plain": [
       "<Figure size 576x360 with 1 Axes>"
      ]
     },
     "metadata": {
      "needs_background": "light"
     },
     "output_type": "display_data"
    }
   ],
   "source": [
    "vocab = model.wv.vocab\n",
    "words = []\n",
    "for i, word in enumerate(vocab):\n",
    "    words.append(word)\n",
    "\n",
    "X = model[vocab]\n",
    "\n",
    "from sklearn.decomposition import PCA\n",
    "import matplotlib.pyplot as plt\n",
    "%matplotlib inline\n",
    "\n",
    "z = PCA(n_components=2)\n",
    "pca_model = z.fit(X)\n",
    "components = pca_model.transform(X)\n",
    "\n",
    "num_words_to_show=20\n",
    "\n",
    "plt.figure(figsize=(8,5))\n",
    "plt.scatter(components[0:num_words_to_show,0],components[0:num_words_to_show,1])\n",
    "for i in range(0, num_words_to_show):\n",
    "    plt.annotate(words[i], xy=(components[i,0],components[i,1]))\n",
    "plt.show()"
   ]
  },
  {
   "cell_type": "code",
   "execution_count": null,
   "metadata": {},
   "outputs": [],
   "source": []
  }
 ],
 "metadata": {
  "kernelspec": {
   "display_name": "Python 3",
   "language": "python",
   "name": "python3"
  },
  "language_info": {
   "codemirror_mode": {
    "name": "ipython",
    "version": 3
   },
   "file_extension": ".py",
   "mimetype": "text/x-python",
   "name": "python",
   "nbconvert_exporter": "python",
   "pygments_lexer": "ipython3",
   "version": "3.7.3"
  }
 },
 "nbformat": 4,
 "nbformat_minor": 2
}
